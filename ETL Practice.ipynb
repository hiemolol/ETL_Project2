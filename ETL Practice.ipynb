{
 "cells": [
  {
   "cell_type": "code",
   "execution_count": null,
   "metadata": {},
   "outputs": [],
   "source": [
    "import pandas as pd\n",
    "import matplotlib.pyplot as plt\n",
    "import numpy as np\n",
    "%matplotlib\n",
    "from sqlalchemy import create_engine\n",
    "import scipy.stats as st\n",
    "from scipy.stats import linregress"
   ]
  },
  {
   "cell_type": "code",
   "execution_count": null,
   "metadata": {},
   "outputs": [],
   "source": [
    "#import freedom\n",
    "freedom_file = pd.read_csv(\"freedom.csv\")\n",
    "list(freedom_file.columns)\n",
    "#pf_expression, Freedom of expression\n",
    "#ef_legal_protection,Protection of property rights\n",
    "#ef_legal_integrity, Integrity of the legal system\n",
    "#pf_identity_sex, Same-sex ralitionships\n",
    "#pf_religion, Religious freedom\n",
    "#pf_association_assembly, Freedom of assembly\n",
    "#ef_trade_movement_visit, Freedom of foreigners to visit\n",
    "#ef_legal_military, Military interference in rule of law and politics\n",
    "#ef_money_inflation, Inflation: most recent year\n",
    "freedom = freedom_file.drop(columns=[\n",
    " 'hf_score',\n",
    " 'hf_rank',\n",
    " 'hf_quartile',\n",
    " 'pf_rol_procedural',\n",
    " 'pf_rol_civil',\n",
    " 'pf_rol_criminal',\n",
    " 'pf_rol',\n",
    " 'pf_ss_homicide',\n",
    " 'pf_ss_disappearances_disap',\n",
    " 'pf_ss_disappearances_violent',\n",
    " 'pf_ss_disappearances_organized',\n",
    " 'pf_ss_disappearances_fatalities',\n",
    " 'pf_ss_disappearances_injuries',\n",
    " 'pf_ss_disappearances',\n",
    " 'pf_ss_women_fgm',\n",
    " 'pf_ss_women_inheritance_widows',\n",
    " 'pf_ss_women_inheritance_daughters',\n",
    " 'pf_ss_women_inheritance',\n",
    " 'pf_ss_women',\n",
    " 'pf_ss',\n",
    " 'pf_movement_domestic',\n",
    " 'pf_movement_foreign',\n",
    " 'pf_movement_women',\n",
    " 'pf_movement',\n",
    " 'pf_religion_estop_establish',\n",
    " 'pf_religion_estop_operate',\n",
    " 'pf_religion_estop',\n",
    " 'pf_religion_harassment',\n",
    " 'pf_religion_restrictions',\n",
    " 'pf_association_association',\n",
    " 'pf_association_political_establish',\n",
    " 'pf_association_political_operate',\n",
    " 'pf_association_political',\n",
    " 'pf_association_prof_establish',\n",
    " 'pf_association_prof_operate',\n",
    " 'pf_association_prof',\n",
    " 'pf_association_sport_establish',\n",
    " 'pf_association_sport_operate',\n",
    " 'pf_association_sport',\n",
    " 'pf_association',\n",
    " 'pf_expression_killed',\n",
    " 'pf_expression_jailed',\n",
    " 'pf_expression_influence',\n",
    " 'pf_expression_control',\n",
    " 'pf_expression_cable',\n",
    " 'pf_expression_newspapers',\n",
    " 'pf_expression_internet',\n",
    " 'pf_identity_legal',\n",
    " 'pf_identity_sex_male',\n",
    " 'pf_identity_sex_female',\n",
    " 'pf_identity_divorce',\n",
    " 'pf_identity',\n",
    " 'pf_score',\n",
    " 'pf_rank',\n",
    " 'ef_government_consumption',\n",
    " 'ef_government_transfers',\n",
    " 'ef_government_enterprises',\n",
    " 'ef_government_tax_income',\n",
    " 'ef_government_tax_payroll',\n",
    " 'ef_government_tax',\n",
    " 'ef_government_soa',\n",
    " 'ef_government',\n",
    " 'ef_legal_judicial',\n",
    " 'ef_legal_courts',\n",
    " 'ef_legal_enforcement',\n",
    " 'ef_legal_restrictions',\n",
    " 'ef_legal_police',\n",
    " 'ef_legal_crime',\n",
    " 'ef_legal_gender',\n",
    " 'ef_legal',\n",
    " 'ef_money_growth',\n",
    " 'ef_money_sd',\n",
    " 'ef_money_currency',\n",
    " 'ef_money',\n",
    " 'ef_trade_tariffs_revenue',\n",
    " 'ef_trade_tariffs_mean',\n",
    " 'ef_trade_tariffs_sd',\n",
    " 'ef_trade_tariffs',\n",
    " 'ef_trade_regulatory_nontariff',\n",
    " 'ef_trade_regulatory_compliance',\n",
    " 'ef_trade_regulatory',\n",
    " 'ef_trade_black',\n",
    " 'ef_trade_movement_foreign',\n",
    " 'ef_trade_movement_capital',\n",
    " 'ef_trade_movement',\n",
    " 'ef_trade',\n",
    " 'ef_regulation_credit_ownership',\n",
    " 'ef_regulation_credit_private',\n",
    " 'ef_regulation_credit_interest',\n",
    " 'ef_regulation_credit',\n",
    " 'ef_regulation_labor_minwage',\n",
    " 'ef_regulation_labor_firing',\n",
    " 'ef_regulation_labor_bargain',\n",
    " 'ef_regulation_labor_hours',\n",
    " 'ef_regulation_labor_dismissal',\n",
    " 'ef_regulation_labor_conscription',\n",
    " 'ef_regulation_labor',\n",
    " 'ef_regulation_business_adm',\n",
    " 'ef_regulation_business_bureaucracy',\n",
    " 'ef_regulation_business_start',\n",
    " 'ef_regulation_business_bribes',\n",
    " 'ef_regulation_business_licensing',\n",
    " 'ef_regulation_business_compliance',\n",
    " 'ef_regulation_business',\n",
    " 'ef_regulation',\n",
    " 'ef_score',\n",
    " 'ef_rank'])\n",
    "\n",
    "#change columns name\n",
    "freedom_new = freedom.rename(columns={\"ISO_code\":\"code\",\"pf_religion\":\"religion\",\"pf_association_assembly\":\"assembly\",\n",
    "                                     \"pf_expression\":\"expression\",\"pf_identity_sex\":\"same sex\",\n",
    "                                     \"ef_legal_protection\":\"legal protection\",\"ef_legal_military\":\"military interference\",\n",
    "                                     \"ef_legal_integrity\":\"legal system\",\"ef_money_inflation\":\"inflation\",\n",
    "                                     \"ef_trade_movement_visit\":\"foreigners visit\"})\n",
    "freedom_new.dtypes\n",
    "freedom_new.head()"
   ]
  },
  {
   "cell_type": "code",
   "execution_count": null,
   "metadata": {},
   "outputs": [],
   "source": [
    "#import happiness\n",
    "happiness_file = pd.read_csv(\"happiness.csv\")\n",
    "list(happiness_file.columns)\n",
    "happiness_new = happiness_file.rename(columns={'Entity':\"countries\",'Code':'code','Year':'year',\n",
    "                                               'World Happiness Report 2016 (Cantril Ladder (0=worst; 10=best))':'happiness score'})\n",
    "happiness_new.dtypes\n",
    "happiness_new.head()"
   ]
  },
  {
   "cell_type": "code",
   "execution_count": null,
   "metadata": {},
   "outputs": [],
   "source": [
    "#merge on'code'\n",
    "merge_table = pd.merge(happiness_new,freedom_new,how=\"left\",left_on=[\"code\",\"year\"],right_on=[\"code\",\"year\"])\n",
    "merge_new = merge_table.drop(columns=['countries_y'])\n",
    "\n",
    "#drop NA\n",
    "merge_new = merge_new.dropna()\n",
    "merge_new = merge_new.rename(columns={'countries_x':'countries'})\n",
    "\n",
    "merge_new "
   ]
  },
  {
   "cell_type": "code",
   "execution_count": null,
   "metadata": {},
   "outputs": [],
   "source": [
    "#countries table\n",
    "countries = merge_new[['countries','code','region']]\n",
    "country = countries.groupby('code')\n",
    "country = country.first()\n",
    "country.sort_values('code')"
   ]
  },
  {
   "cell_type": "code",
   "execution_count": null,
   "metadata": {},
   "outputs": [],
   "source": [
    "#variable\n",
    "variable = merge_new[['code','year','happiness score','religion','assembly','expression','same sex',\n",
    "                      'legal protection','military interference','legal system','inflation','foreigners visit']]\n",
    "variable = merge_new.rename(columns={'happiness score':'happiness_score','same sex':'same_sex',\n",
    "                                 'legal protection':'legal_protection','military interference':'military_interference',\n",
    "                                 'legal system':'legal_system','foreigners visit':'foreigners_visit'})\n",
    "variable = variable.drop(columns=['countries','region'])\n",
    "#values = variable.groupby('code')\n",
    "#values=values.all()\n",
    "values = variable.replace('-', 'NA')\n",
    "values"
   ]
  },
  {
   "cell_type": "code",
   "execution_count": null,
   "metadata": {},
   "outputs": [],
   "source": [
    "#Create database connection\n",
    "connection_string = \"postgres:postgres@localhost:5432/ETL_homework\"\n",
    "engine = create_engine(f'postgresql://{connection_string}')\n",
    "\n",
    "# Confirm tables\n",
    "engine.table_names()"
   ]
  },
  {
   "cell_type": "code",
   "execution_count": null,
   "metadata": {},
   "outputs": [],
   "source": [
    "engine.execute('DROP TABLE IF EXISTS country;')\n",
    "engine.execute('DROP TABLE IF EXISTS values;')"
   ]
  },
  {
   "cell_type": "code",
   "execution_count": null,
   "metadata": {},
   "outputs": [],
   "source": [
    "country.to_sql(name='country', con=engine, if_exists='append', index=True)\n",
    "values.to_sql(name='values', con=engine, if_exists='append', index=True)"
   ]
  },
  {
   "cell_type": "code",
   "execution_count": null,
   "metadata": {},
   "outputs": [],
   "source": [
    "merge_new"
   ]
  },
  {
   "cell_type": "code",
   "execution_count": null,
   "metadata": {},
   "outputs": [],
   "source": [
    "merge_new=merge_new.replace('-',np.nan)\n",
    "\n",
    "d ={'religion':float,'assembly':float,'expression':float,'same sex':float,'legal protection':float,\n",
    "    'military interference':float,'legal system':float,'inflation':float,'foreigners visit':float,}\n",
    "\n",
    "new_df = merge_new.astype(d)\n",
    "new_df.dtypes\n",
    "table = new_df.groupby(['code'])\n",
    "table = table.mean()\n",
    "average_happiness = table['happiness score']\n",
    "average_freedom = table[['religion','assembly','expression','same sex','legal protection',\n",
    "                         'military interference','legal system','inflation','foreigners visit']].mean(axis=1)\n",
    "                        \n",
    "type(average_happiness)\n"
   ]
  },
  {
   "cell_type": "code",
   "execution_count": null,
   "metadata": {},
   "outputs": [],
   "source": [
    "#create a table\n",
    "df1 = average_happiness.to_frame().reset_index()\n",
    "df2 = average_freedom.to_frame().reset_index()\n",
    "free_to_happy = df1.merge(df2)\n",
    "free_to_happy = free_to_happy.rename(columns={'0':'freedom'})\n",
    "free_to_happy"
   ]
  },
  {
   "cell_type": "code",
   "execution_count": 16,
   "metadata": {},
   "outputs": [
    {
     "data": {
      "image/png": "[encoded data removed]",
      "text/plain": [
       "<Figure size 432x288 with 1 Axes>"
      ]
     },
     "metadata": {
      "needs_background": "light"
     },
     "output_type": "display_data"
    }
   ],
   "source": [
    "#create graphic\n",
    "happiness =free_to_happy.iloc[:,1]\n",
    "freedom= free_to_happy.iloc[:,2]\n",
    "plt.scatter(happiness,freedom)\n",
    "plt.xlabel('Happiness')\n",
    "plt.ylabel('Freedom')\n",
    "plt.show()\n"
   ]
  },
  {
   "cell_type": "code",
   "execution_count": 17,
   "metadata": {},
   "outputs": [
    {
     "name": "stdout",
     "output_type": "stream",
     "text": [
      "The correlation coefficient between happiness and freedom is 0.63\n"
     ]
    }
   ],
   "source": [
    "correlation = st.pearsonr(happiness,freedom)\n",
    "print(f\"The correlation coefficient between happiness and freedom is {round(correlation[0],2)}\")"
   ]
  },
  {
   "cell_type": "code",
   "execution_count": null,
   "metadata": {},
   "outputs": [],
   "source": []
  }
 ],
 "metadata": {
  "kernelspec": {
   "display_name": "Python 3",
   "language": "python",
   "name": "python3"
  }
 },
 "nbformat": 4,
 "nbformat_minor": 2
}
